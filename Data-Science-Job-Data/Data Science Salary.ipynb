{
 "cells": [
  {
   "cell_type": "code",
   "execution_count": 1,
   "metadata": {},
   "outputs": [],
   "source": [
    "import numpy as np\n",
    "import pandas as pd"
   ]
  },
  {
   "cell_type": "code",
   "execution_count": 2,
   "metadata": {},
   "outputs": [],
   "source": [
    "company = pd.read_csv('title_location_company_salary.csv')"
   ]
  },
  {
   "cell_type": "code",
   "execution_count": 3,
   "metadata": {},
   "outputs": [],
   "source": [
    "# 1. DATA UNDERSTANDING"
   ]
  },
  {
   "cell_type": "code",
   "execution_count": 4,
   "metadata": {},
   "outputs": [
    {
     "data": {
      "text/html": [
       "<div>\n",
       "<style scoped>\n",
       "    .dataframe tbody tr th:only-of-type {\n",
       "        vertical-align: middle;\n",
       "    }\n",
       "\n",
       "    .dataframe tbody tr th {\n",
       "        vertical-align: top;\n",
       "    }\n",
       "\n",
       "    .dataframe thead th {\n",
       "        text-align: right;\n",
       "    }\n",
       "</style>\n",
       "<table border=\"1\" class=\"dataframe\">\n",
       "  <thead>\n",
       "    <tr style=\"text-align: right;\">\n",
       "      <th></th>\n",
       "      <th>Unnamed: 0</th>\n",
       "      <th>Title</th>\n",
       "      <th>Company</th>\n",
       "      <th>Location</th>\n",
       "      <th>Salary</th>\n",
       "      <th>Levels</th>\n",
       "    </tr>\n",
       "  </thead>\n",
       "  <tbody>\n",
       "    <tr>\n",
       "      <th>0</th>\n",
       "      <td>0</td>\n",
       "      <td>Data Scientist</td>\n",
       "      <td>Numerdox</td>\n",
       "      <td>Sacramento, CA</td>\n",
       "      <td>110000.0</td>\n",
       "      <td>Jr.</td>\n",
       "    </tr>\n",
       "    <tr>\n",
       "      <th>1</th>\n",
       "      <td>1</td>\n",
       "      <td>Data Analyst</td>\n",
       "      <td>Cepheid</td>\n",
       "      <td>Lodi, CA</td>\n",
       "      <td>120000.0</td>\n",
       "      <td>Unknown</td>\n",
       "    </tr>\n",
       "    <tr>\n",
       "      <th>2</th>\n",
       "      <td>2</td>\n",
       "      <td>Data Scientist</td>\n",
       "      <td>Cepheid</td>\n",
       "      <td>Sunnyvale, CA</td>\n",
       "      <td>150000.0</td>\n",
       "      <td>Staff</td>\n",
       "    </tr>\n",
       "    <tr>\n",
       "      <th>3</th>\n",
       "      <td>3</td>\n",
       "      <td>Data Scientist</td>\n",
       "      <td>Verana Health</td>\n",
       "      <td>San Francisco, CA</td>\n",
       "      <td>150000.0</td>\n",
       "      <td>Unknown</td>\n",
       "    </tr>\n",
       "    <tr>\n",
       "      <th>4</th>\n",
       "      <td>4</td>\n",
       "      <td>Data Scientist</td>\n",
       "      <td>Tinder</td>\n",
       "      <td>San Francisco, CA</td>\n",
       "      <td>130000.0</td>\n",
       "      <td>Jr.</td>\n",
       "    </tr>\n",
       "    <tr>\n",
       "      <th>...</th>\n",
       "      <td>...</td>\n",
       "      <td>...</td>\n",
       "      <td>...</td>\n",
       "      <td>...</td>\n",
       "      <td>...</td>\n",
       "      <td>...</td>\n",
       "    </tr>\n",
       "    <tr>\n",
       "      <th>1282</th>\n",
       "      <td>1282</td>\n",
       "      <td>Data Scientist</td>\n",
       "      <td>PayPal</td>\n",
       "      <td>San Jose, CA</td>\n",
       "      <td>82000.0</td>\n",
       "      <td>Unknown</td>\n",
       "    </tr>\n",
       "    <tr>\n",
       "      <th>1283</th>\n",
       "      <td>1283</td>\n",
       "      <td>Software Engineer</td>\n",
       "      <td>NVIDIA</td>\n",
       "      <td>Santa Clara, CA</td>\n",
       "      <td>160000.0</td>\n",
       "      <td>Sr.</td>\n",
       "    </tr>\n",
       "    <tr>\n",
       "      <th>1284</th>\n",
       "      <td>1284</td>\n",
       "      <td>Data Scientist</td>\n",
       "      <td>Afterpay Touch</td>\n",
       "      <td>San Francisco, CA</td>\n",
       "      <td>130000.0</td>\n",
       "      <td>Staff</td>\n",
       "    </tr>\n",
       "    <tr>\n",
       "      <th>1285</th>\n",
       "      <td>1285</td>\n",
       "      <td>Director of Data Science</td>\n",
       "      <td>Anthem</td>\n",
       "      <td>San Francisco, CA</td>\n",
       "      <td>200000.0</td>\n",
       "      <td>Unknown</td>\n",
       "    </tr>\n",
       "    <tr>\n",
       "      <th>1286</th>\n",
       "      <td>1286</td>\n",
       "      <td>Data Scientist</td>\n",
       "      <td>Philo Inc.</td>\n",
       "      <td>San Francisco, CA</td>\n",
       "      <td>140000.0</td>\n",
       "      <td>Unknown</td>\n",
       "    </tr>\n",
       "  </tbody>\n",
       "</table>\n",
       "<p>1287 rows × 6 columns</p>\n",
       "</div>"
      ],
      "text/plain": [
       "      Unnamed: 0                     Title         Company           Location  \\\n",
       "0              0            Data Scientist        Numerdox     Sacramento, CA   \n",
       "1              1              Data Analyst         Cepheid           Lodi, CA   \n",
       "2              2            Data Scientist         Cepheid      Sunnyvale, CA   \n",
       "3              3            Data Scientist   Verana Health  San Francisco, CA   \n",
       "4              4            Data Scientist          Tinder  San Francisco, CA   \n",
       "...          ...                       ...             ...                ...   \n",
       "1282        1282            Data Scientist          PayPal       San Jose, CA   \n",
       "1283        1283         Software Engineer          NVIDIA    Santa Clara, CA   \n",
       "1284        1284            Data Scientist  Afterpay Touch  San Francisco, CA   \n",
       "1285        1285  Director of Data Science          Anthem  San Francisco, CA   \n",
       "1286        1286            Data Scientist      Philo Inc.  San Francisco, CA   \n",
       "\n",
       "        Salary   Levels  \n",
       "0     110000.0      Jr.  \n",
       "1     120000.0  Unknown  \n",
       "2     150000.0    Staff  \n",
       "3     150000.0  Unknown  \n",
       "4     130000.0      Jr.  \n",
       "...        ...      ...  \n",
       "1282   82000.0  Unknown  \n",
       "1283  160000.0      Sr.  \n",
       "1284  130000.0    Staff  \n",
       "1285  200000.0  Unknown  \n",
       "1286  140000.0  Unknown  \n",
       "\n",
       "[1287 rows x 6 columns]"
      ]
     },
     "execution_count": 4,
     "metadata": {},
     "output_type": "execute_result"
    }
   ],
   "source": [
    "company"
   ]
  },
  {
   "cell_type": "code",
   "execution_count": 5,
   "metadata": {},
   "outputs": [],
   "source": [
    "#the first column need to be dropped"
   ]
  },
  {
   "cell_type": "code",
   "execution_count": 6,
   "metadata": {},
   "outputs": [
    {
     "data": {
      "text/plain": [
       "(1287, 6)"
      ]
     },
     "execution_count": 6,
     "metadata": {},
     "output_type": "execute_result"
    }
   ],
   "source": [
    "company.shape"
   ]
  },
  {
   "cell_type": "code",
   "execution_count": 7,
   "metadata": {},
   "outputs": [
    {
     "name": "stdout",
     "output_type": "stream",
     "text": [
      "<class 'pandas.core.frame.DataFrame'>\n",
      "RangeIndex: 1287 entries, 0 to 1286\n",
      "Data columns (total 6 columns):\n",
      " #   Column      Non-Null Count  Dtype  \n",
      "---  ------      --------------  -----  \n",
      " 0   Unnamed: 0  1287 non-null   int64  \n",
      " 1   Title       1287 non-null   object \n",
      " 2   Company     1285 non-null   object \n",
      " 3   Location    1116 non-null   object \n",
      " 4   Salary      1209 non-null   float64\n",
      " 5   Levels      1287 non-null   object \n",
      "dtypes: float64(1), int64(1), object(4)\n",
      "memory usage: 60.5+ KB\n"
     ]
    }
   ],
   "source": [
    "company.info()"
   ]
  },
  {
   "cell_type": "code",
   "execution_count": 8,
   "metadata": {},
   "outputs": [
    {
     "data": {
      "text/html": [
       "<div>\n",
       "<style scoped>\n",
       "    .dataframe tbody tr th:only-of-type {\n",
       "        vertical-align: middle;\n",
       "    }\n",
       "\n",
       "    .dataframe tbody tr th {\n",
       "        vertical-align: top;\n",
       "    }\n",
       "\n",
       "    .dataframe thead th {\n",
       "        text-align: right;\n",
       "    }\n",
       "</style>\n",
       "<table border=\"1\" class=\"dataframe\">\n",
       "  <thead>\n",
       "    <tr style=\"text-align: right;\">\n",
       "      <th></th>\n",
       "      <th>Unnamed: 0</th>\n",
       "      <th>Salary</th>\n",
       "    </tr>\n",
       "  </thead>\n",
       "  <tbody>\n",
       "    <tr>\n",
       "      <th>count</th>\n",
       "      <td>1287.000000</td>\n",
       "      <td>1209.000000</td>\n",
       "    </tr>\n",
       "    <tr>\n",
       "      <th>mean</th>\n",
       "      <td>643.000000</td>\n",
       "      <td>150969.914806</td>\n",
       "    </tr>\n",
       "    <tr>\n",
       "      <th>std</th>\n",
       "      <td>371.669208</td>\n",
       "      <td>33377.154151</td>\n",
       "    </tr>\n",
       "    <tr>\n",
       "      <th>min</th>\n",
       "      <td>0.000000</td>\n",
       "      <td>0.000000</td>\n",
       "    </tr>\n",
       "    <tr>\n",
       "      <th>25%</th>\n",
       "      <td>321.500000</td>\n",
       "      <td>130000.000000</td>\n",
       "    </tr>\n",
       "    <tr>\n",
       "      <th>50%</th>\n",
       "      <td>643.000000</td>\n",
       "      <td>150000.000000</td>\n",
       "    </tr>\n",
       "    <tr>\n",
       "      <th>75%</th>\n",
       "      <td>964.500000</td>\n",
       "      <td>170000.000000</td>\n",
       "    </tr>\n",
       "    <tr>\n",
       "      <th>max</th>\n",
       "      <td>1286.000000</td>\n",
       "      <td>434000.000000</td>\n",
       "    </tr>\n",
       "  </tbody>\n",
       "</table>\n",
       "</div>"
      ],
      "text/plain": [
       "        Unnamed: 0         Salary\n",
       "count  1287.000000    1209.000000\n",
       "mean    643.000000  150969.914806\n",
       "std     371.669208   33377.154151\n",
       "min       0.000000       0.000000\n",
       "25%     321.500000  130000.000000\n",
       "50%     643.000000  150000.000000\n",
       "75%     964.500000  170000.000000\n",
       "max    1286.000000  434000.000000"
      ]
     },
     "execution_count": 8,
     "metadata": {},
     "output_type": "execute_result"
    }
   ],
   "source": [
    "company.describe()"
   ]
  },
  {
   "cell_type": "code",
   "execution_count": 9,
   "metadata": {},
   "outputs": [
    {
     "data": {
      "text/plain": [
       "Unnamed: 0    1287\n",
       "Title           13\n",
       "Company        527\n",
       "Location        81\n",
       "Salary          56\n",
       "Levels           7\n",
       "dtype: int64"
      ]
     },
     "execution_count": 9,
     "metadata": {},
     "output_type": "execute_result"
    }
   ],
   "source": [
    "company.nunique()"
   ]
  },
  {
   "cell_type": "code",
   "execution_count": 10,
   "metadata": {},
   "outputs": [],
   "source": [
    "# 2. DATA CLEANING AND PREPARATION"
   ]
  },
  {
   "cell_type": "code",
   "execution_count": 11,
   "metadata": {},
   "outputs": [
    {
     "data": {
      "text/html": [
       "<div>\n",
       "<style scoped>\n",
       "    .dataframe tbody tr th:only-of-type {\n",
       "        vertical-align: middle;\n",
       "    }\n",
       "\n",
       "    .dataframe tbody tr th {\n",
       "        vertical-align: top;\n",
       "    }\n",
       "\n",
       "    .dataframe thead th {\n",
       "        text-align: right;\n",
       "    }\n",
       "</style>\n",
       "<table border=\"1\" class=\"dataframe\">\n",
       "  <thead>\n",
       "    <tr style=\"text-align: right;\">\n",
       "      <th></th>\n",
       "      <th>Title</th>\n",
       "      <th>Company</th>\n",
       "      <th>Location</th>\n",
       "      <th>Salary</th>\n",
       "      <th>Levels</th>\n",
       "    </tr>\n",
       "  </thead>\n",
       "  <tbody>\n",
       "    <tr>\n",
       "      <th>0</th>\n",
       "      <td>Data Scientist</td>\n",
       "      <td>Numerdox</td>\n",
       "      <td>Sacramento, CA</td>\n",
       "      <td>110000.0</td>\n",
       "      <td>Jr.</td>\n",
       "    </tr>\n",
       "    <tr>\n",
       "      <th>1</th>\n",
       "      <td>Data Analyst</td>\n",
       "      <td>Cepheid</td>\n",
       "      <td>Lodi, CA</td>\n",
       "      <td>120000.0</td>\n",
       "      <td>Unknown</td>\n",
       "    </tr>\n",
       "    <tr>\n",
       "      <th>2</th>\n",
       "      <td>Data Scientist</td>\n",
       "      <td>Cepheid</td>\n",
       "      <td>Sunnyvale, CA</td>\n",
       "      <td>150000.0</td>\n",
       "      <td>Staff</td>\n",
       "    </tr>\n",
       "    <tr>\n",
       "      <th>3</th>\n",
       "      <td>Data Scientist</td>\n",
       "      <td>Verana Health</td>\n",
       "      <td>San Francisco, CA</td>\n",
       "      <td>150000.0</td>\n",
       "      <td>Unknown</td>\n",
       "    </tr>\n",
       "    <tr>\n",
       "      <th>4</th>\n",
       "      <td>Data Scientist</td>\n",
       "      <td>Tinder</td>\n",
       "      <td>San Francisco, CA</td>\n",
       "      <td>130000.0</td>\n",
       "      <td>Jr.</td>\n",
       "    </tr>\n",
       "  </tbody>\n",
       "</table>\n",
       "</div>"
      ],
      "text/plain": [
       "            Title        Company           Location    Salary   Levels\n",
       "0  Data Scientist       Numerdox     Sacramento, CA  110000.0      Jr.\n",
       "1    Data Analyst        Cepheid           Lodi, CA  120000.0  Unknown\n",
       "2  Data Scientist        Cepheid      Sunnyvale, CA  150000.0    Staff\n",
       "3  Data Scientist  Verana Health  San Francisco, CA  150000.0  Unknown\n",
       "4  Data Scientist         Tinder  San Francisco, CA  130000.0      Jr."
      ]
     },
     "execution_count": 11,
     "metadata": {},
     "output_type": "execute_result"
    }
   ],
   "source": [
    "#2.1 Drop the unused column\n",
    "company.drop(columns='Unnamed: 0',axis=1, inplace=True)\n",
    "company.head()"
   ]
  },
  {
   "cell_type": "code",
   "execution_count": 12,
   "metadata": {},
   "outputs": [
    {
     "data": {
      "text/plain": [
       "342"
      ]
     },
     "execution_count": 12,
     "metadata": {},
     "output_type": "execute_result"
    }
   ],
   "source": [
    "#2.2 Check and remove duplicated data \n",
    "company.duplicated().sum()"
   ]
  },
  {
   "cell_type": "code",
   "execution_count": 13,
   "metadata": {},
   "outputs": [],
   "source": [
    "company.drop_duplicates(inplace=True)"
   ]
  },
  {
   "cell_type": "code",
   "execution_count": 14,
   "metadata": {},
   "outputs": [
    {
     "data": {
      "text/plain": [
       "0"
      ]
     },
     "execution_count": 14,
     "metadata": {},
     "output_type": "execute_result"
    }
   ],
   "source": [
    "company.duplicated().sum()"
   ]
  },
  {
   "cell_type": "code",
   "execution_count": 15,
   "metadata": {},
   "outputs": [
    {
     "data": {
      "text/html": [
       "<div>\n",
       "<style scoped>\n",
       "    .dataframe tbody tr th:only-of-type {\n",
       "        vertical-align: middle;\n",
       "    }\n",
       "\n",
       "    .dataframe tbody tr th {\n",
       "        vertical-align: top;\n",
       "    }\n",
       "\n",
       "    .dataframe thead th {\n",
       "        text-align: right;\n",
       "    }\n",
       "</style>\n",
       "<table border=\"1\" class=\"dataframe\">\n",
       "  <thead>\n",
       "    <tr style=\"text-align: right;\">\n",
       "      <th></th>\n",
       "      <th>Title</th>\n",
       "      <th>Company</th>\n",
       "      <th>Location</th>\n",
       "      <th>Salary</th>\n",
       "      <th>Levels</th>\n",
       "    </tr>\n",
       "  </thead>\n",
       "  <tbody>\n",
       "    <tr>\n",
       "      <th>0</th>\n",
       "      <td>Data Scientist</td>\n",
       "      <td>Numerdox</td>\n",
       "      <td>Sacramento, CA</td>\n",
       "      <td>110000.0</td>\n",
       "      <td>Jr.</td>\n",
       "    </tr>\n",
       "    <tr>\n",
       "      <th>1</th>\n",
       "      <td>Data Analyst</td>\n",
       "      <td>Cepheid</td>\n",
       "      <td>Lodi, CA</td>\n",
       "      <td>120000.0</td>\n",
       "      <td>Unknown</td>\n",
       "    </tr>\n",
       "    <tr>\n",
       "      <th>2</th>\n",
       "      <td>Data Scientist</td>\n",
       "      <td>Cepheid</td>\n",
       "      <td>Sunnyvale, CA</td>\n",
       "      <td>150000.0</td>\n",
       "      <td>Staff</td>\n",
       "    </tr>\n",
       "    <tr>\n",
       "      <th>3</th>\n",
       "      <td>Data Scientist</td>\n",
       "      <td>Verana Health</td>\n",
       "      <td>San Francisco, CA</td>\n",
       "      <td>150000.0</td>\n",
       "      <td>Unknown</td>\n",
       "    </tr>\n",
       "    <tr>\n",
       "      <th>4</th>\n",
       "      <td>Data Scientist</td>\n",
       "      <td>Tinder</td>\n",
       "      <td>San Francisco, CA</td>\n",
       "      <td>130000.0</td>\n",
       "      <td>Jr.</td>\n",
       "    </tr>\n",
       "    <tr>\n",
       "      <th>...</th>\n",
       "      <td>...</td>\n",
       "      <td>...</td>\n",
       "      <td>...</td>\n",
       "      <td>...</td>\n",
       "      <td>...</td>\n",
       "    </tr>\n",
       "    <tr>\n",
       "      <th>1281</th>\n",
       "      <td>Data Scientist</td>\n",
       "      <td>Atlassian</td>\n",
       "      <td>Mountain View, CA</td>\n",
       "      <td>180000.0</td>\n",
       "      <td>Principal</td>\n",
       "    </tr>\n",
       "    <tr>\n",
       "      <th>1282</th>\n",
       "      <td>Data Scientist</td>\n",
       "      <td>PayPal</td>\n",
       "      <td>San Jose, CA</td>\n",
       "      <td>82000.0</td>\n",
       "      <td>Unknown</td>\n",
       "    </tr>\n",
       "    <tr>\n",
       "      <th>1283</th>\n",
       "      <td>Software Engineer</td>\n",
       "      <td>NVIDIA</td>\n",
       "      <td>Santa Clara, CA</td>\n",
       "      <td>160000.0</td>\n",
       "      <td>Sr.</td>\n",
       "    </tr>\n",
       "    <tr>\n",
       "      <th>1284</th>\n",
       "      <td>Data Scientist</td>\n",
       "      <td>Afterpay Touch</td>\n",
       "      <td>San Francisco, CA</td>\n",
       "      <td>130000.0</td>\n",
       "      <td>Staff</td>\n",
       "    </tr>\n",
       "    <tr>\n",
       "      <th>1285</th>\n",
       "      <td>Director of Data Science</td>\n",
       "      <td>Anthem</td>\n",
       "      <td>San Francisco, CA</td>\n",
       "      <td>200000.0</td>\n",
       "      <td>Unknown</td>\n",
       "    </tr>\n",
       "  </tbody>\n",
       "</table>\n",
       "<p>945 rows × 5 columns</p>\n",
       "</div>"
      ],
      "text/plain": [
       "                         Title         Company           Location    Salary  \\\n",
       "0               Data Scientist        Numerdox     Sacramento, CA  110000.0   \n",
       "1                 Data Analyst         Cepheid           Lodi, CA  120000.0   \n",
       "2               Data Scientist         Cepheid      Sunnyvale, CA  150000.0   \n",
       "3               Data Scientist   Verana Health  San Francisco, CA  150000.0   \n",
       "4               Data Scientist          Tinder  San Francisco, CA  130000.0   \n",
       "...                        ...             ...                ...       ...   \n",
       "1281            Data Scientist       Atlassian  Mountain View, CA  180000.0   \n",
       "1282            Data Scientist          PayPal       San Jose, CA   82000.0   \n",
       "1283         Software Engineer          NVIDIA    Santa Clara, CA  160000.0   \n",
       "1284            Data Scientist  Afterpay Touch  San Francisco, CA  130000.0   \n",
       "1285  Director of Data Science          Anthem  San Francisco, CA  200000.0   \n",
       "\n",
       "         Levels  \n",
       "0           Jr.  \n",
       "1       Unknown  \n",
       "2         Staff  \n",
       "3       Unknown  \n",
       "4           Jr.  \n",
       "...         ...  \n",
       "1281  Principal  \n",
       "1282    Unknown  \n",
       "1283        Sr.  \n",
       "1284      Staff  \n",
       "1285    Unknown  \n",
       "\n",
       "[945 rows x 5 columns]"
      ]
     },
     "execution_count": 15,
     "metadata": {},
     "output_type": "execute_result"
    }
   ],
   "source": [
    "company"
   ]
  },
  {
   "cell_type": "code",
   "execution_count": 18,
   "metadata": {},
   "outputs": [
    {
     "data": {
      "text/plain": [
       "Title         0\n",
       "Company       2\n",
       "Location    146\n",
       "Salary       61\n",
       "Levels        0\n",
       "dtype: int64"
      ]
     },
     "execution_count": 18,
     "metadata": {},
     "output_type": "execute_result"
    }
   ],
   "source": [
    "#2.3 Check missing data\n",
    "company.isnull().sum()"
   ]
  },
  {
   "cell_type": "code",
   "execution_count": 19,
   "metadata": {},
   "outputs": [],
   "source": [
    "#The title and company column should have a value. Remove rows where company column is null\n",
    "company.dropna(subset=['Company'], inplace=True)"
   ]
  },
  {
   "cell_type": "code",
   "execution_count": 20,
   "metadata": {},
   "outputs": [
    {
     "data": {
      "text/plain": [
       "Title         0\n",
       "Company       0\n",
       "Location    144\n",
       "Salary       61\n",
       "Levels        0\n",
       "dtype: int64"
      ]
     },
     "execution_count": 20,
     "metadata": {},
     "output_type": "execute_result"
    }
   ],
   "source": [
    "company.isnull().sum()"
   ]
  },
  {
   "cell_type": "code",
   "execution_count": null,
   "metadata": {},
   "outputs": [],
   "source": [
    "#3 RELATIONSHIP ANALYSIS"
   ]
  },
  {
   "cell_type": "code",
   "execution_count": 21,
   "metadata": {},
   "outputs": [],
   "source": [
    "import matplotlib.pyplot as plt"
   ]
  },
  {
   "cell_type": "code",
   "execution_count": 35,
   "metadata": {},
   "outputs": [
    {
     "data": {
      "text/plain": [
       "<AxesSubplot:title={'center':'Salary'}, xlabel='[Title]'>"
      ]
     },
     "execution_count": 35,
     "metadata": {},
     "output_type": "execute_result"
    },
    {
     "data": {
      "image/png": "[encoded data removed]",
      "text/plain": [
       "<Figure size 432x288 with 1 Axes>"
      ]
     },
     "metadata": {
      "needs_background": "light"
     },
     "output_type": "display_data"
    }
   ],
   "source": [
    "company.boxplot(column=['Salary'], by=['Title'], rot=90)"
   ]
  },
  {
   "cell_type": "code",
   "execution_count": 27,
   "metadata": {},
   "outputs": [
    {
     "data": {
      "image/png": "[encoded data removed]",
      "text/plain": [
       "<Figure size 432x288 with 1 Axes>"
      ]
     },
     "metadata": {
      "needs_background": "light"
     },
     "output_type": "display_data"
    },
    {
     "data": {
      "text/plain": [
       "<Figure size 6480x720 with 0 Axes>"
      ]
     },
     "metadata": {},
     "output_type": "display_data"
    }
   ],
   "source": [
    "#Relationship between title and salary\n",
    "x = company['Title']\n",
    "y = company['Salary']\n",
    "plt.plot(x,y)\n",
    "plt.figure(figsize=(90,10))\n",
    "plt.show()"
   ]
  },
  {
   "cell_type": "code",
   "execution_count": null,
   "metadata": {},
   "outputs": [],
   "source": []
  }
 ],
 "metadata": {
  "kernelspec": {
   "display_name": "Python 3",
   "language": "python",
   "name": "python3"
  },
  "language_info": {
   "codemirror_mode": {
    "name": "ipython",
    "version": 3
   },
   "file_extension": ".py",
   "mimetype": "text/x-python",
   "name": "python",
   "nbconvert_exporter": "python",
   "pygments_lexer": "ipython3",
   "version": "3.8.5"
  }
 },
 "nbformat": 4,
 "nbformat_minor": 4
}
